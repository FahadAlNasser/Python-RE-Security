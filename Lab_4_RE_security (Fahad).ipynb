{
  "nbformat": 4,
  "nbformat_minor": 0,
  "metadata": {
    "colab": {
      "provenance": [],
      "collapsed_sections": []
    },
    "kernelspec": {
      "name": "python3",
      "display_name": "Python 3"
    },
    "language_info": {
      "name": "python"
    }
  },
  "cells": [
    {
      "cell_type": "markdown",
      "source": [
        "Create a Python Program that will ask the user for a password (use input)\n",
        "\n",
        "Verify that the password meets the following conditions:\n",
        "-must be at least 12 characters long (can be longer)\n",
        "-must have uppercase and lowercase\n",
        "-must contain at least 1 special character (!~#$%^&*{}+_)\n",
        "-must be a mix of numbers and letters\n",
        "\n",
        "1) You must do this only using regular expressions so for instance this will not be accepted\n",
        "\n",
        "if len(password) <12:\n",
        "\n",
        "2) You must use at least 4 regular expressions (can be more). I will not accept assignments that use 1 regular expressions statement to do the entire assignment.\n",
        "\n",
        "At the end of the program tell the user their password is ok or not ok"
      ],
      "metadata": {
        "id": "BsglxjMNkoZF"
      }
    },
    {
      "cell_type": "code",
      "execution_count": 7,
      "metadata": {
        "id": "nbSHPHwykhTa",
        "colab": {
          "base_uri": "https://localhost:8080/"
        },
        "outputId": "697f250a-a0d9-4a63-a08c-9f3eb177326c"
      },
      "outputs": [
        {
          "output_type": "stream",
          "name": "stdout",
          "text": [
            "Please Input your password. The passsword has to have 12 characters with special letter and uppercase with lowercase letters48AedOp$#~08\n",
            "\n",
            "The password is strong, please click \"next\" to continue with the registration\n"
          ]
        }
      ],
      "source": [
        "import re\n",
        "text = input('Please Input your password. The passsword has to have 12 characters with special letter and uppercase with lowercase letters')\n",
        "matches = re.findall(r'.{12,}', text)\n",
        "if matches:\n",
        "  has_len=True\n",
        "else:\n",
        "  has_len=False\n",
        "  print('It does not meet the input requirement1')\n",
        "matches = re.findall(r'[A-Z]', text)\n",
        "if matches:\n",
        "  has_letter=True\n",
        "else:\n",
        "  has_letter=False\n",
        "  print('It does not meet the input requirement2')\n",
        "matches = re.findall(r'[a-z]', text)\n",
        "if matches:\n",
        "  has_cap=True\n",
        "else:\n",
        "  has_cap=False\n",
        "  print('It does not meet the input requirement3')\n",
        "matches = re.findall(r'[!~#$%^&*{}+_]', text)\n",
        "if matches:\n",
        "  has_symboll=True\n",
        "else:\n",
        "  has_symboll=False\n",
        "  print('It does not meet the input requiremet4')\n",
        "matches = re.findall(r'[0-9]', text)\n",
        "if matches:\n",
        "  has_num=True\n",
        "else:\n",
        "  has_num=False\n",
        "  print('It does not meet the input requirement5')\n",
        "print()\n",
        "if has_len and has_letter and has_cap and has_symboll and has_num:\n",
        "  combine = True\n",
        "  print('The password is strong, please click \"next\" to continue with the registration')\n",
        "else:\n",
        "  combine = False\n",
        "  print('Password is weak Please create a password with numbers, capital and small letter, and special characters')"
      ]
    }
  ]
}